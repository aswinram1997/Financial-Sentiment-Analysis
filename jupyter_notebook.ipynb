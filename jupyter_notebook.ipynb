{
 "cells": [
  {
   "cell_type": "markdown",
   "id": "6ca00a03",
   "metadata": {},
   "source": [
    "## 1. Introduction"
   ]
  },
  {
   "cell_type": "markdown",
   "id": "8f77efc3",
   "metadata": {},
   "source": [
    "In today's data-driven financial landscape, the development of a Financial Sentiment Analysis Model is of paramount importance. This model harnesses natural language processing and machine learning techniques to systematically evaluate sentiment in financial data, offering invaluable insights for investment decisions, risk management, and market forecasting. By quantifying sentiments expressed in various financial sources, this model not only addresses the growing demand for sophisticated data analysis tools but also paves the way for innovative applications that can enhance decision-making processes across the financial industry, promising a more informed and competitive future. Therefore, this project's objective is to develop a Financial Sentiment Analysis Model that can predict the sentiment of financial markets and assets accurately, enabling investors, traders, and financial professionals to make more informed decisions and navigate the complexities of the ever-evolving financial landscape with greater confidence."
   ]
  },
  {
   "cell_type": "markdown",
   "id": "324e5868",
   "metadata": {},
   "source": [
    "## 2. Methodology"
   ]
  },
  {
   "cell_type": "markdown",
   "id": "d04d490b",
   "metadata": {},
   "source": [
    "The methodology encompasses key stages, starting with data collection from Kaggle. Subsequently, data is split and undergoes exploratory analysis (EDA) to understand its characteristics. Following EDA, the data is preprocessed, including sentence cleaning, tokenization, stopword removal, stemming, lemmatization, class imbalance handling, and label encoding. The modeling phase employs Text Blob model, ML models with TF-IDF, and LSTM with Word2Vec, concluding with comprehensive evaluation of the models."
   ]
  },
  {
   "cell_type": "markdown",
   "id": "1ea4b975",
   "metadata": {},
   "source": [
    "## 3. Development of Financial Sentiment Analysis Model"
   ]
  },
  {
   "cell_type": "markdown",
   "id": "53c4f81a",
   "metadata": {},
   "source": [
    "### 3.1 Import Libraries"
   ]
  },
  {
   "cell_type": "code",
   "execution_count": 1,
   "id": "60d54fc1",
   "metadata": {},
   "outputs": [
    {
     "name": "stderr",
     "output_type": "stream",
     "text": [
      "[nltk_data] Downloading package omw-1.4 to\n",
      "[nltk_data]     C:\\Users\\aswin\\AppData\\Roaming\\nltk_data...\n",
      "[nltk_data]   Package omw-1.4 is already up-to-date!\n"
     ]
    }
   ],
   "source": [
    "# Operating System and File Handling\n",
    "import os\n",
    "\n",
    "# Data Manipulation and Analysis\n",
    "import pandas as pd\n",
    "import numpy as np\n",
    "from wordcloud import WordCloud\n",
    "from sklearn.utils import resample\n",
    "import random\n",
    "\n",
    "# Data Visualization\n",
    "import matplotlib.pyplot as plt\n",
    "\n",
    "# Machine Learning - Data Splitting\n",
    "from sklearn.model_selection import train_test_split\n",
    "from sklearn.model_selection import StratifiedShuffleSplit\n",
    "\n",
    "# Machine Learning - Imbalance Handling\n",
    "from imblearn.over_sampling import RandomOverSampler\n",
    "from imblearn.under_sampling import RandomUnderSampler\n",
    "from imblearn.over_sampling import SMOTE, ADASYN\n",
    "\n",
    "# Natural Language Processing (NLP) - Tokenization and Text Processing\n",
    "import nltk\n",
    "import gensim\n",
    "import re\n",
    "import emoji\n",
    "import multiprocessing\n",
    "from nltk.corpus import stopwords\n",
    "from nltk.tokenize import word_tokenize\n",
    "from nltk.stem import PorterStemmer, WordNetLemmatizer, SnowballStemmer\n",
    "nltk.download('omw-1.4')  # Downloading a specific nltk resource\n",
    "from textblob import TextBlob\n",
    "from sklearn.feature_extraction.text import TfidfVectorizer\n",
    "from gensim.models import Word2Vec\n",
    "\n",
    "# Label Encoding\n",
    "from sklearn.preprocessing import LabelEncoder\n",
    "\n",
    "# Modeling (Deep Learning)\n",
    "import tensorflow as tf\n",
    "from tensorflow.keras.preprocessing.sequence import pad_sequences\n",
    "from tensorflow.keras.models import Sequential\n",
    "from tensorflow.keras.regularizers import l2\n",
    "from tensorflow.keras.optimizers import Adam, RMSprop\n",
    "from sklearn.metrics import f1_score\n",
    "from tensorflow.keras.callbacks import EarlyStopping\n",
    "from keras import backend as K\n",
    "from tensorflow.keras.layers import Embedding, LSTM, Dense, Dropout, Bidirectional, BatchNormalization\n",
    "\n",
    "# Machine Learning \n",
    "from sklearn.naive_bayes import MultinomialNB\n",
    "from sklearn.metrics import accuracy_score\n",
    "from sklearn.metrics import make_scorer, f1_score, accuracy_score\n",
    "from sklearn.model_selection import RandomizedSearchCV\n",
    "from sklearn.linear_model import LogisticRegression\n",
    "from sklearn.naive_bayes import MultinomialNB\n",
    "from sklearn.ensemble import RandomForestClassifier, GradientBoostingClassifier"
   ]
  },
  {
   "cell_type": "markdown",
   "id": "aaf5ef3e",
   "metadata": {},
   "source": [
    "### 3.2 Data Collection"
   ]
  },
  {
   "cell_type": "markdown",
   "id": "bf638611",
   "metadata": {},
   "source": [
    "This code snippet loads a CSV file named 'data.csv' from the current working directory into a Pandas DataFrame called 'data' and displays its initial rows."
   ]
  },
  {
   "cell_type": "code",
   "execution_count": 2,
   "id": "7d5fc7e5",
   "metadata": {},
   "outputs": [
    {
     "name": "stdout",
     "output_type": "stream",
     "text": [
      "Shape of df: (5836, 2)\n"
     ]
    },
    {
     "data": {
      "text/html": [
       "<div>\n",
       "<style scoped>\n",
       "    .dataframe tbody tr th:only-of-type {\n",
       "        vertical-align: middle;\n",
       "    }\n",
       "\n",
       "    .dataframe tbody tr th {\n",
       "        vertical-align: top;\n",
       "    }\n",
       "\n",
       "    .dataframe thead th {\n",
       "        text-align: right;\n",
       "    }\n",
       "</style>\n",
       "<table border=\"1\" class=\"dataframe\">\n",
       "  <thead>\n",
       "    <tr style=\"text-align: right;\">\n",
       "      <th></th>\n",
       "      <th>Sentence</th>\n",
       "      <th>Sentiment</th>\n",
       "    </tr>\n",
       "  </thead>\n",
       "  <tbody>\n",
       "    <tr>\n",
       "      <th>0</th>\n",
       "      <td>The GeoSolutions technology will leverage Bene...</td>\n",
       "      <td>positive</td>\n",
       "    </tr>\n",
       "    <tr>\n",
       "      <th>1</th>\n",
       "      <td>$ESI on lows, down $1.50 to $2.50 BK a real po...</td>\n",
       "      <td>negative</td>\n",
       "    </tr>\n",
       "    <tr>\n",
       "      <th>2</th>\n",
       "      <td>For the last quarter of 2010 , Componenta 's n...</td>\n",
       "      <td>positive</td>\n",
       "    </tr>\n",
       "    <tr>\n",
       "      <th>3</th>\n",
       "      <td>According to the Finnish-Russian Chamber of Co...</td>\n",
       "      <td>neutral</td>\n",
       "    </tr>\n",
       "    <tr>\n",
       "      <th>4</th>\n",
       "      <td>The Swedish buyout firm has sold its remaining...</td>\n",
       "      <td>neutral</td>\n",
       "    </tr>\n",
       "  </tbody>\n",
       "</table>\n",
       "</div>"
      ],
      "text/plain": [
       "                                            Sentence Sentiment\n",
       "0  The GeoSolutions technology will leverage Bene...  positive\n",
       "1  $ESI on lows, down $1.50 to $2.50 BK a real po...  negative\n",
       "2  For the last quarter of 2010 , Componenta 's n...  positive\n",
       "3  According to the Finnish-Russian Chamber of Co...   neutral\n",
       "4  The Swedish buyout firm has sold its remaining...   neutral"
      ]
     },
     "execution_count": 2,
     "metadata": {},
     "output_type": "execute_result"
    }
   ],
   "source": [
    "# Get the data path\n",
    "root_folder = os.getcwd()  \n",
    "data_filename = 'data.csv' \n",
    "data_path = os.path.join(root_folder, data_filename)\n",
    "\n",
    "# Load the CSV file\n",
    "data = pd.read_csv(data_path)\n",
    "\n",
    "# Find duplicate rows based on all columns\n",
    "duplicate_rows = data[data.duplicated()]\n",
    "\n",
    "# Remove duplicate rows and update the DataFrame\n",
    "data = data.drop_duplicates()\n",
    "\n",
    "# Print data shape and df\n",
    "print(\"Shape of df:\", data.shape)\n",
    "data.head()"
   ]
  },
  {
   "cell_type": "markdown",
   "id": "fa66f316",
   "metadata": {},
   "source": [
    "### 3.3 Data Splitting"
   ]
  },
  {
   "cell_type": "markdown",
   "id": "57309cfc",
   "metadata": {},
   "source": [
    "This code splits the data into training, validation, and test sets with stratification, calculates their sizes as percentages of the total data."
   ]
  },
  {
   "cell_type": "code",
   "execution_count": 3,
   "id": "682ee8a2",
   "metadata": {},
   "outputs": [
    {
     "name": "stdout",
     "output_type": "stream",
     "text": [
      "Train data size: 2334 (40%)\n",
      "Validation data size: 1751 (30%)\n",
      "Test data size: 1751 (30%)\n"
     ]
    }
   ],
   "source": [
    "# Split the data into features (X) and labels (y)\n",
    "X = data.drop(columns=['Sentiment'])  # Assuming you have other features besides 'Sentiment'\n",
    "y = data['Sentiment']\n",
    "\n",
    "# Stratified split by the \"Sentiment\" label\n",
    "X_train, X_temp, y_train, y_temp = train_test_split(X, y, test_size=0.6, random_state=7)\n",
    "X_val, X_test, y_val, y_test = train_test_split(X_temp, y_temp, test_size=0.5, random_state=7)\n",
    "\n",
    "# Calculate the percentages of each subset\n",
    "total_samples = len(data)\n",
    "train_percentage = len(X_train) / total_samples * 100\n",
    "val_percentage = len(X_val) / total_samples * 100\n",
    "test_percentage = len(X_test) / total_samples * 100\n",
    "\n",
    "# Print the sizes and percentages of the subsets\n",
    "print(\"Train data size:\", len(X_train), f\"({train_percentage:.0f}%)\")\n",
    "print(\"Validation data size:\", len(X_val), f\"({val_percentage:.0f}%)\")\n",
    "print(\"Test data size:\", len(X_test), f\"({test_percentage:.0f}%)\")"
   ]
  },
  {
   "cell_type": "markdown",
   "id": "431e75eb",
   "metadata": {},
   "source": [
    "### 3.4 Exploratory Data Analysis"
   ]
  },
  {
   "cell_type": "markdown",
   "id": "f1175d35",
   "metadata": {},
   "source": [
    "Exploratory Data Analysis (EDA) is the process of visually and statistically examining a dataset to uncover patterns, trends, and insights before formal modeling, helping to understand its characteristics and inform subsequent data analysis."
   ]
  },
  {
   "cell_type": "code",
   "execution_count": 4,
   "id": "d31b2c9e",
   "metadata": {},
   "outputs": [
    {
     "data": {
      "image/png": "[encoded data removed]",
      "text/plain": [
       "<Figure size 1800x600 with 3 Axes>"
      ]
     },
     "metadata": {},
     "output_type": "display_data"
    }
   ],
   "source": [
    "# Use value_counts to get the counts for y_train, y_val, and y_test\n",
    "value_counts_train = y_train.value_counts()\n",
    "value_counts_val = y_val.value_counts()\n",
    "value_counts_test = y_test.value_counts()\n",
    "\n",
    "# Set custom colors\n",
    "colors = ['crimson', 'steelblue', 'green']\n",
    "\n",
    "# Set the font size for labels\n",
    "plt.rcParams['font.size'] = 14\n",
    "\n",
    "# Create a 1x3 grid of subplots\n",
    "plt.figure(figsize=(18, 6))\n",
    "\n",
    "# Plotting the pie chart for y_train\n",
    "plt.subplot(131)\n",
    "plt.pie(value_counts_train, labels=value_counts_train.index, autopct='%1.1f%%', startangle=140, colors=colors)\n",
    "plt.axis('equal')\n",
    "plt.title('Distribution of y_train Values')\n",
    "\n",
    "# Plotting the pie chart for y_val\n",
    "plt.subplot(132)\n",
    "plt.pie(value_counts_val, labels=value_counts_val.index, autopct='%1.1f%%', startangle=140, colors=colors)\n",
    "plt.axis('equal')\n",
    "plt.title('Distribution of y_val Values')\n",
    "\n",
    "# Plotting the pie chart for y_test\n",
    "plt.subplot(133)\n",
    "plt.pie(value_counts_test, labels=value_counts_test.index, autopct='%1.1f%%', startangle=140, colors=colors)\n",
    "plt.axis('equal')\n",
    "plt.title('Distribution of y_test Values')\n",
    "\n",
    "# Adjust layout for better spacing\n",
    "plt.tight_layout()\n",
    "\n",
    "# Show all three charts\n",
    "plt.show()"
   ]
  },
  {
   "cell_type": "markdown",
   "id": "78fb409c",
   "metadata": {},
   "source": [
    "### 3.5 Text Preprocessing and Model Training"
   ]
  },
  {
   "cell_type": "markdown",
   "id": "9c7de1d3",
   "metadata": {},
   "source": [
    "\"Text preprocessing and model training\" refers to the combined process of preparing textual data for machine learning by applying various techniques such as tokenization, stop-word removal, stemming, and vectorization (e.g., TF-IDF or word embeddings), followed by training a machine learning or deep learning model on the processed text data for tasks like classification, sentiment analysis, or language generation. In this project we focus on text preprocessing and model training for sentiment analysis on financial market data."
   ]
  },
  {
   "cell_type": "markdown",
   "id": "1750034c",
   "metadata": {},
   "source": [
    "### A. TextBlob"
   ]
  },
  {
   "cell_type": "markdown",
   "id": "f0fdd313",
   "metadata": {},
   "source": [
    "The code utilizes the TextBlob library, which relies on a pre-trained machine learning model for sentiment analysis. This model is trained on generic text data and can classify text as positive, negative, or neutral based on sentiment polarity. The code evaluates this model's performance using accuracy and F1 scores on different datasets, like training, validation, and test sets. If this initial approach doesn't yield satisfactory results, alternative algorithms can be explored."
   ]
  },
  {
   "cell_type": "code",
   "execution_count": 5,
   "id": "74343015",
   "metadata": {},
   "outputs": [
    {
     "name": "stdout",
     "output_type": "stream",
     "text": [
      "Accuracy:\n",
      "Train Accuracy for Text Blob Model: 0.45\n",
      "Validation Accuracy for Text Blob Model: 0.46\n",
      "Test Accuracy for Text Blob Model: 0.46\n",
      "\n",
      "F1 Score:\n",
      "Train F1 Score for Text Blob Model: 0.41\n",
      "Validation F1 Score for Text Blob Model: 0.42\n",
      "Test F1 Score for Text Blob Model: 0.41\n"
     ]
    }
   ],
   "source": [
    "# Define a function to perform sentiment analysis and calculate metrics\n",
    "def analyze_sentiment_and_metrics(X, y):\n",
    "    # Initialize a list to store predicted labels for the dataset\n",
    "    predicted_labels = []\n",
    "\n",
    "    # Perform sentiment analysis and collect predicted labels for the dataset\n",
    "    for text in X.iloc[:, 0]:  # Extract the text from the DataFrame\n",
    "        analysis = TextBlob(text)\n",
    "        predicted_sentiment = \"positive\" if analysis.sentiment.polarity > 0 else \"negative\" if analysis.sentiment.polarity < 0 else \"neutral\"\n",
    "        predicted_labels.append(predicted_sentiment)\n",
    "\n",
    "    # Convert y to a NumPy array or list\n",
    "    y_array = y.to_numpy() if isinstance(y, pd.Series) else y.tolist()\n",
    "\n",
    "    # Calculate accuracy and F1 score for the dataset\n",
    "    accuracy = accuracy_score(y_array, predicted_labels)\n",
    "    f1_macro = f1_score(y_array, predicted_labels, average='macro')  # Use 'macro' averaging\n",
    "    \n",
    "    return accuracy, f1_macro\n",
    "\n",
    "# Call the function for train, val, and test datasets\n",
    "train_accuracy_tb, train_f1_tb = analyze_sentiment_and_metrics(X_train, y_train)\n",
    "val_accuracy_tb, val_f1_tb = analyze_sentiment_and_metrics(X_val, y_val)\n",
    "test_accuracy_tb, test_f1_tb = analyze_sentiment_and_metrics(X_test, y_test)\n",
    "\n",
    "# Print the F1 score and accuracy for the Text Blob model\n",
    "print(\"Accuracy:\")\n",
    "print(f\"Train Accuracy for Text Blob Model: {train_accuracy_tb:.2f}\")\n",
    "print(f\"Validation Accuracy for Text Blob Model: {val_accuracy_tb:.2f}\")\n",
    "print(f\"Test Accuracy for Text Blob Model: {test_accuracy_tb:.2f}\")\n",
    "print()\n",
    "print(\"F1 Score:\")\n",
    "print(f\"Train F1 Score for Text Blob Model: {train_f1_tb:.2f}\")\n",
    "print(f\"Validation F1 Score for Text Blob Model: {val_f1_tb:.2f}\")\n",
    "print(f\"Test F1 Score for Text Blob Model: {test_f1_tb:.2f}\")"
   ]
  },
  {
   "cell_type": "markdown",
   "id": "5b5e24cd",
   "metadata": {},
   "source": [
    "### B. Machine Learning Models with TF-IDF"
   ]
  },
  {
   "cell_type": "markdown",
   "id": "9e17f815",
   "metadata": {},
   "source": [
    "ML models with TF-IDF is a common and effective approach for text classification tasks. It leverages TF-IDF scores to represent text data and employs the ML algorithms for classification."
   ]
  },
  {
   "cell_type": "markdown",
   "id": "1e3b36fa",
   "metadata": {},
   "source": [
    "##### Text Preprocessing"
   ]
  },
  {
   "cell_type": "markdown",
   "id": "524142b3",
   "metadata": {},
   "source": [
    "Text preprocessing involves cleaning and transforming text data to make it suitable for analysis or modeling. This code defines a function, preprocess_text, which preprocesses text by replacing contractions, removing URLs, special characters, and non-ASCII characters, converting to lowercase, removing emojis, tokenizing, removing common stopwords, and applying stemming. This function is applied to text data in X_train, X_val, and X_test DataFrames. The original 'Sentence' column is then dropped from each DataFrame, resulting in processed text data. Lastly, this code also label encodes the sentiment classes."
   ]
  },
  {
   "cell_type": "code",
   "execution_count": 6,
   "id": "1a58db4f",
   "metadata": {},
   "outputs": [],
   "source": [
    "# Create copies of the training, validation, and test datasets for machine learning purposes\n",
    "X_train_ml = X_train.copy()    # Copy the training features\n",
    "X_val_ml = X_val.copy()        # Copy the validation features\n",
    "X_test_ml = X_test.copy()      # Copy the test features\n",
    "\n",
    "y_train_ml = y_train[:]        # Create a copy of the training labels\n",
    "y_val_ml = y_val[:]            # Create a copy of the validation labels\n",
    "y_test_ml = y_test[:]          # Create a copy of the test labels"
   ]
  },
  {
   "cell_type": "code",
   "execution_count": 7,
   "id": "b201b463",
   "metadata": {},
   "outputs": [
    {
     "data": {
      "text/html": [
       "<div>\n",
       "<style scoped>\n",
       "    .dataframe tbody tr th:only-of-type {\n",
       "        vertical-align: middle;\n",
       "    }\n",
       "\n",
       "    .dataframe tbody tr th {\n",
       "        vertical-align: top;\n",
       "    }\n",
       "\n",
       "    .dataframe thead th {\n",
       "        text-align: right;\n",
       "    }\n",
       "</style>\n",
       "<table border=\"1\" class=\"dataframe\">\n",
       "  <thead>\n",
       "    <tr style=\"text-align: right;\">\n",
       "      <th></th>\n",
       "      <th>Processed_Tokens</th>\n",
       "    </tr>\n",
       "  </thead>\n",
       "  <tbody>\n",
       "    <tr>\n",
       "      <th>2838</th>\n",
       "      <td>[brk, b, spy, time, high, tomorrow, ?, k, shar...</td>\n",
       "    </tr>\n",
       "    <tr>\n",
       "      <th>173</th>\n",
       "      <td>[looking, sharp, move, equity, aapl, hd, low, ...</td>\n",
       "    </tr>\n",
       "    <tr>\n",
       "      <th>2067</th>\n",
       "      <td>[risto, jalo, ,, chief, executive, dormus, pri...</td>\n",
       "    </tr>\n",
       "    <tr>\n",
       "      <th>2859</th>\n",
       "      <td>[isrg, break, confirmed, bought, leap, good, t...</td>\n",
       "    </tr>\n",
       "    <tr>\n",
       "      <th>1734</th>\n",
       "      <td>[aim, ensure, vacon, good, shape, capital, exp...</td>\n",
       "    </tr>\n",
       "  </tbody>\n",
       "</table>\n",
       "</div>"
      ],
      "text/plain": [
       "                                       Processed_Tokens\n",
       "2838  [brk, b, spy, time, high, tomorrow, ?, k, shar...\n",
       "173   [looking, sharp, move, equity, aapl, hd, low, ...\n",
       "2067  [risto, jalo, ,, chief, executive, dormus, pri...\n",
       "2859  [isrg, break, confirmed, bought, leap, good, t...\n",
       "1734  [aim, ensure, vacon, good, shape, capital, exp..."
      ]
     },
     "execution_count": 7,
     "metadata": {},
     "output_type": "execute_result"
    }
   ],
   "source": [
    "def preprocess_text(text):\n",
    "    # Step 1: Clean the text\n",
    "    # Replace URLs with a space\n",
    "    text = re.sub(r\"http\\S+\", \" \", text)\n",
    "    text = re.sub(r\"http\", \" \", text)\n",
    "    # Replace '@' with 'at'\n",
    "    text = re.sub(r\"@\", \"at\", text)\n",
    "    # Replace hashtags with a space\n",
    "    text = re.sub(r\"#[A-Za-z0-9_]+\", ' ', text)\n",
    "    # Remove special characters, punctuation, and non-alphanumeric characters\n",
    "    text = re.sub(r\"[^A-Za-z(),!?@\\'\\\"_\\n]\", \" \", text)\n",
    "    # Convert to lowercase\n",
    "    text = text.lower()\n",
    "    # Remove emoji characters\n",
    "    text = emoji.demojize(text)\n",
    "    # Remove non-ASCII characters\n",
    "    text = ''.join([c for c in text if ord(c) < 128])\n",
    "\n",
    "    # Step 2: Tokenization\n",
    "    tokens = word_tokenize(text)\n",
    "\n",
    "    # Step 3: Stopword Removal\n",
    "    stop_words = set(stopwords.words('english'))\n",
    "    additional_stopwords = ['rt', 'mkr', 'didn', 'bc', 'n', 'm', 'im', 'll', 'y', 've', 'u', 'ur', 'don', 'p', 't', 's', 'aren', 'kp', 'o', 'kat', 'de', 're', 'amp', 'will']\n",
    "    stop_words.update(additional_stopwords)\n",
    "    filtered_tokens = [token for token in tokens if token not in stop_words]\n",
    "    \n",
    "    # Step 4: Lemmatization with WordNet Lemmatizer\n",
    "    lemmatizer = WordNetLemmatizer()\n",
    "    lemmatized_tokens = [lemmatizer.lemmatize(token) for token in filtered_tokens]\n",
    "    \n",
    "    # Step 5: Stemming with Snowball Stemmer\n",
    "    stemmer = SnowballStemmer(\"english\")\n",
    "    stemmed_tokens = [stemmer.stem(token) for token in lemmatized_tokens]\n",
    "\n",
    "    return lemmatized_tokens\n",
    "\n",
    "\n",
    "# Apply the preprocess_text function to the 'Sentence' column of X_train, X_val, and X_test\n",
    "X_train_ml['Processed_Tokens'] = X_train_ml['Sentence'].apply(preprocess_text)\n",
    "X_val_ml['Processed_Tokens'] = X_val_ml['Sentence'].apply(preprocess_text)\n",
    "X_test_ml['Processed_Tokens'] = X_test_ml['Sentence'].apply(preprocess_text)\n",
    "\n",
    "# Remove the original 'Sentence' column from X_train, X_val, and X_test\n",
    "X_train_ml.drop(columns=['Sentence'], inplace=True)\n",
    "X_val_ml.drop(columns=['Sentence'], inplace=True)\n",
    "X_test_ml.drop(columns=['Sentence'], inplace=True)\n",
    "\n",
    "# Print the processed DataFrame\n",
    "X_train_ml.head()"
   ]
  },
  {
   "cell_type": "code",
   "execution_count": 8,
   "id": "aedacb1d",
   "metadata": {},
   "outputs": [
    {
     "name": "stdout",
     "output_type": "stream",
     "text": [
      "[2 2 1 2 2 1 1 0 1 2]\n"
     ]
    }
   ],
   "source": [
    "# Initialize the LabelEncoder\n",
    "label_encoder = LabelEncoder()\n",
    "\n",
    "# Fit and transform the labels for training data\n",
    "y_train_ml = label_encoder.fit_transform(y_train_ml)\n",
    "\n",
    "# Apply preprocessing to validation and test data\n",
    "y_val_ml = label_encoder.transform(y_val_ml)\n",
    "y_test_ml = label_encoder.transform(y_test_ml)\n",
    "\n",
    "# Print the first few encoded labels for training data\n",
    "print(y_train_ml[:10])"
   ]
  },
  {
   "cell_type": "markdown",
   "id": "83d0ad6e",
   "metadata": {},
   "source": [
    "##### Feature Engineering - TF-IDF"
   ]
  },
  {
   "cell_type": "markdown",
   "id": "db50aa1c",
   "metadata": {},
   "source": [
    "TF-IDF (Term Frequency-Inverse Document Frequency) is a numerical statistic used in natural language processing and information retrieval to measure the importance of a term in a document relative to a collection of documents, helping to identify key terms and reduce the impact of common words. This code performs TF-IDF vectorization on text data, creating TF-IDF representations that can be used as input features for machine learning models."
   ]
  },
  {
   "cell_type": "code",
   "execution_count": 9,
   "id": "80a83928",
   "metadata": {},
   "outputs": [
    {
     "name": "stdout",
     "output_type": "stream",
     "text": [
      "[0. 0. 0. ... 0. 0. 0.]\n"
     ]
    }
   ],
   "source": [
    "def tfidf_vectorize(train_set, val_set, test_set):\n",
    "    \n",
    "    # Join the tokenized words back into sentences\n",
    "    train_set['Processed_Sentences'] = train_set['Processed_Tokens'].apply(lambda tokens: ' '.join(tokens))\n",
    "    val_set['Processed_Sentences'] = val_set['Processed_Tokens'].apply(lambda tokens: ' '.join(tokens))\n",
    "    test_set['Processed_Sentences'] = test_set['Processed_Tokens'].apply(lambda tokens: ' '.join(tokens))\n",
    "    \n",
    "    # Drop the Processed_Tokens column\n",
    "    train_set.drop(columns=['Processed_Tokens'], inplace=True)\n",
    "    val_set.drop(columns=['Processed_Tokens'], inplace=True)\n",
    "    test_set.drop(columns=['Processed_Tokens'], inplace=True)\n",
    "    \n",
    "    # Initialize the TF-IDF vectorizer\n",
    "    tfidf_vectorizer = TfidfVectorizer()\n",
    "    \n",
    "    # Fit and transform the TF-IDF vectorizer on the train set\n",
    "    X_train_tfidf = tfidf_vectorizer.fit_transform(train_set['Processed_Sentences'])\n",
    "    \n",
    "    # Transform the validation and test sets using the same vectorizer\n",
    "    X_val_tfidf = tfidf_vectorizer.transform(val_set['Processed_Sentences'])\n",
    "    X_test_tfidf = tfidf_vectorizer.transform(test_set['Processed_Sentences'])\n",
    "    \n",
    "    return X_train_tfidf.toarray(), X_val_tfidf.toarray(), X_test_tfidf.toarray()\n",
    "\n",
    "# Usage\n",
    "X_train_tfidf, X_val_tfidf, X_test_tfidf = tfidf_vectorize(X_train_ml, X_val_ml, X_test_ml)\n",
    "\n",
    "# Print the TF-IDF matrix for the first sentence on X_train\n",
    "print(X_train_tfidf[0])"
   ]
  },
  {
   "cell_type": "markdown",
   "id": "a2281d58",
   "metadata": {},
   "source": [
    "##### Class Imbalance Handling"
   ]
  },
  {
   "cell_type": "markdown",
   "id": "1d7cb44e",
   "metadata": {},
   "source": [
    "Class imbalance handling techniques address the unequal distribution of classes in a dataset to improve the performance of machine learning models, often involving methods like undersampling or uversampling. In the provided code, the Synthetic Minority Over-sampling Technique (SMOTE) is used to balance class distribution in the training data by generating synthetic examples of the minority class, enhancing the model's ability to learn from underrepresented class instances."
   ]
  },
  {
   "cell_type": "code",
   "execution_count": 10,
   "id": "f0ef109a",
   "metadata": {},
   "outputs": [],
   "source": [
    "# Create an instance of SMOTE\n",
    "smote = SMOTE(sampling_strategy='auto', random_state=62)\n",
    "\n",
    "# Fit and transform the training data\n",
    "X_train_tfidf, y_train_ml = smote.fit_resample(X_train_tfidf, y_train_ml)"
   ]
  },
  {
   "cell_type": "code",
   "execution_count": 11,
   "id": "a7fc5e31",
   "metadata": {},
   "outputs": [
    {
     "name": "stdout",
     "output_type": "stream",
     "text": [
      "Value: 0, Count: 1224\n",
      "Value: 1, Count: 1224\n",
      "Value: 2, Count: 1224\n",
      " \n",
      "Total samples: 7174\n",
      "X_train_tfidf size: 3672 samples (51%)\n",
      "X_val size: 1751 samples (24%)\n",
      "X_test size: 1751 samples (24%)\n"
     ]
    }
   ],
   "source": [
    "unique_values, counts = np.unique(y_train_ml, return_counts=True)\n",
    "\n",
    "# Print unique values and their counts\n",
    "for value, count in zip(unique_values, counts):\n",
    "    print(f\"Value: {value}, Count: {count}\")\n",
    "\n",
    "print(\" \")\n",
    "total_samples = len(X_train_tfidf) + len(X_val) + len(X_test)\n",
    "train_size = len(X_train_tfidf)\n",
    "val_size = len(X_val)\n",
    "test_size = len(X_test)\n",
    "\n",
    "print(f\"Total samples: {total_samples}\")\n",
    "print(f\"X_train_tfidf size: {train_size} samples ({(train_size / total_samples) * 100:.0f}%)\")\n",
    "print(f\"X_val size: {val_size} samples ({(val_size / total_samples) * 100:.0f}%)\")\n",
    "print(f\"X_test size: {test_size} samples ({(test_size / total_samples) * 100:.0f}%)\")"
   ]
  },
  {
   "cell_type": "markdown",
   "id": "e87cd5d5",
   "metadata": {},
   "source": [
    "##### Machine Learning Models"
   ]
  },
  {
   "cell_type": "markdown",
   "id": "4067ad86",
   "metadata": {},
   "source": [
    "The code defines hyperparameter grids for Randomized Search on two classifiers (Multinomial Naive Bayes and Random Forest), conducts hyperparameter tuning, and prints the best hyperparameters for each classifier while also evaluating their performance on training, validation, and test sets."
   ]
  },
  {
   "cell_type": "code",
   "execution_count": 13,
   "id": "1c3204b3",
   "metadata": {},
   "outputs": [
    {
     "name": "stdout",
     "output_type": "stream",
     "text": [
      "Accuracy:\n",
      "Train Accuracy for Multinomial Naive Bayes: 0.94\n",
      "Validation Accuracy for Multinomial Naive Bayes: 0.62\n",
      "Test Accuracy for Multinomial Naive Bayes: 0.62\n",
      " \n",
      "F1 Score:\n",
      "Train F1 Score for Multinomial Naive Bayes: 0.94\n",
      "Validation F1 Score for Multinomial Naive Bayes: 0.56\n",
      "Test F1 Score for Multinomial Naive Bayes: 0.56\n",
      "\n",
      "Accuracy:\n",
      "Train Accuracy for Random Forest: 0.77\n",
      "Validation Accuracy for Random Forest: 0.64\n",
      "Test Accuracy for Random Forest: 0.65\n",
      " \n",
      "F1 Score:\n",
      "Train F1 Score for Random Forest: 0.77\n",
      "Validation F1 Score for Random Forest: 0.55\n",
      "Test F1 Score for Random Forest: 0.58\n",
      "\n"
     ]
    }
   ],
   "source": [
    "# Define the hyperparameter grids for random search for each classifier\n",
    "param_dists = {\n",
    "    'Multinomial Naive Bayes': {\n",
    "        'alpha': [1e-5, 1e-4, 1e-3, 1e-2, 0.1, 0.5, 1.0, 2.0, 5.0, 10.0], \n",
    "        'fit_prior': [True, False],\n",
    "    },\n",
    "    'Random Forest': {\n",
    "        'n_estimators': [100, 300, 500],\n",
    "        'max_depth': [4, 8, 10, 15, 20],\n",
    "        'min_samples_split': [2, 5, 10, 15, 20],\n",
    "        'min_samples_leaf': [1, 2, 4, 6, 8],\n",
    "    }\n",
    "}\n",
    "\n",
    "# Create a dictionary of classifiers\n",
    "classifiers = {\n",
    "    'Multinomial Naive Bayes': MultinomialNB(),\n",
    "    'Random Forest': RandomForestClassifier(random_state=42),\n",
    "}\n",
    "\n",
    "# Define the scoring metric (macro F1-score in this case)\n",
    "scorer = make_scorer(f1_score, average='macro')\n",
    "\n",
    "# Initialize empty dictionaries to store test scores\n",
    "test_accuracy_ml = {}\n",
    "test_f1_ml = {}\n",
    "\n",
    "# Iterate over classifiers\n",
    "for classifier_name, classifier in classifiers.items():\n",
    "    # Create RandomizedSearchCV object with n-fold cross-validation for the current classifier\n",
    "    random_search = RandomizedSearchCV(estimator=classifier, param_distributions=param_dists[classifier_name], \n",
    "                                       scoring=scorer, cv=5, n_iter=10, random_state=72)\n",
    "    \n",
    "    # Fit the random search to your data\n",
    "    random_search.fit(X_train_tfidf, y_train_ml)\n",
    "\n",
    "    # Print the best hyperparameters and corresponding macro F1-score for the current classifier\n",
    "    best_hyperparameters = random_search.best_params_\n",
    "    best_macro_f1_score = random_search.best_score_\n",
    "\n",
    "    # Calculate and print the accuracy on the training, validation, and test sets using the best model\n",
    "    best_model = random_search.best_estimator_\n",
    "    train_predictions = best_model.predict(X_train_tfidf)\n",
    "    val_predictions = best_model.predict(X_val_tfidf)\n",
    "    test_predictions = best_model.predict(X_test_tfidf)\n",
    "\n",
    "    # Calculate and print the accuracy on the training, validation, and test sets  using the best model\n",
    "    train_accuracy = accuracy_score(y_train_ml, train_predictions)\n",
    "    val_accuracy = accuracy_score(y_val_ml, val_predictions)\n",
    "    test_accuracy = accuracy_score(y_test_ml, test_predictions)\n",
    "    \n",
    "    print(\"Accuracy:\")\n",
    "    print(f\"Train Accuracy for {classifier_name}: {train_accuracy:.2f}\")\n",
    "    print(f\"Validation Accuracy for {classifier_name}: {val_accuracy:.2f}\")\n",
    "    print(f\"Test Accuracy for {classifier_name}: {test_accuracy:.2f}\")\n",
    "    \n",
    "    # Store test accuracy in the dictionary\n",
    "    test_accuracy_ml[classifier_name] = test_accuracy\n",
    "    \n",
    "    print(\" \")\n",
    "    \n",
    "    # Calculate and print the F1-score on the training and validation sets using the best model\n",
    "    train_macro_f1 = f1_score(y_train_ml, train_predictions, average='macro')\n",
    "    val_macro_f1 = f1_score(y_val_ml, val_predictions, average='macro')\n",
    "    test_macro_f1 = f1_score(y_test_ml, test_predictions, average='macro')\n",
    "\n",
    "    print(\"F1 Score:\")\n",
    "    print(f\"Train F1 Score for {classifier_name}: {train_macro_f1:.2f}\")\n",
    "    print(f\"Validation F1 Score for {classifier_name}: {val_macro_f1:.2f}\")\n",
    "    print(f\"Test F1 Score for {classifier_name}: {test_macro_f1:.2f}\")\n",
    "    \n",
    "    # Store test F1-score in the dictionary\n",
    "    test_f1_ml[classifier_name] = test_macro_f1\n",
    "    \n",
    "    print(\"\")"
   ]
  },
  {
   "cell_type": "markdown",
   "id": "7e9c07cb",
   "metadata": {},
   "source": [
    "### C.  Long short-term memory (LSTM) with Word2Vec"
   ]
  },
  {
   "cell_type": "markdown",
   "id": "bfa18515",
   "metadata": {},
   "source": [
    "LSTM with Word2Vec combines LSTM neural networks with Word2Vec word embeddings, enabling deep learning models to capture contextual information and semantic relationships in textual data for sentiment prediction."
   ]
  },
  {
   "cell_type": "markdown",
   "id": "4a15346e",
   "metadata": {},
   "source": [
    "##### Text Preprocessing"
   ]
  },
  {
   "cell_type": "markdown",
   "id": "ab0aec61",
   "metadata": {},
   "source": [
    "Text preprocessing involves cleaning and transforming text data to make it suitable for analysis or modeling. This code defines a function, preprocess_text, which preprocesses text by replacing contractions, removing URLs, special characters, and non-ASCII characters, converting to lowercase, removing emojis, tokenizing, removing common stopwords, and applying stemming. This function is applied to text data in X_train, X_val, and X_test DataFrames. The original 'Sentence' column is then dropped from each DataFrame, resulting in processed text data. Lastly, this code also label encodes the sentiment classes."
   ]
  },
  {
   "cell_type": "code",
   "execution_count": 14,
   "id": "3b8319c0",
   "metadata": {},
   "outputs": [],
   "source": [
    "# Create copies of the DataFrames and arrays for Bi-LSTM model\n",
    "X_train_bi_lstm = X_train.copy()  # Copy of training data\n",
    "X_val_bi_lstm = X_val.copy()      # Copy of validation data\n",
    "X_test_bi_lstm = X_test.copy()    # Copy of test data\n",
    "\n",
    "y_train_bi_lstm = y_train[:]     # Copy of training labels\n",
    "y_val_bi_lstm = y_val[:]         # Copy of validation labels\n",
    "y_test_bi_lstm = y_test[:]       # Copy of test labels"
   ]
  },
  {
   "cell_type": "code",
   "execution_count": 15,
   "id": "6945bdc9",
   "metadata": {},
   "outputs": [
    {
     "data": {
      "text/html": [
       "<div>\n",
       "<style scoped>\n",
       "    .dataframe tbody tr th:only-of-type {\n",
       "        vertical-align: middle;\n",
       "    }\n",
       "\n",
       "    .dataframe tbody tr th {\n",
       "        vertical-align: top;\n",
       "    }\n",
       "\n",
       "    .dataframe thead th {\n",
       "        text-align: right;\n",
       "    }\n",
       "</style>\n",
       "<table border=\"1\" class=\"dataframe\">\n",
       "  <thead>\n",
       "    <tr style=\"text-align: right;\">\n",
       "      <th></th>\n",
       "      <th>Processed_Tokens</th>\n",
       "    </tr>\n",
       "  </thead>\n",
       "  <tbody>\n",
       "    <tr>\n",
       "      <th>2838</th>\n",
       "      <td>[brk, b, spy, time, high, tomorrow, ?, k, shar...</td>\n",
       "    </tr>\n",
       "    <tr>\n",
       "      <th>173</th>\n",
       "      <td>[looking, sharp, move, equity, aapl, hd, low, ...</td>\n",
       "    </tr>\n",
       "    <tr>\n",
       "      <th>2067</th>\n",
       "      <td>[risto, jalo, ,, chief, executive, dormus, pri...</td>\n",
       "    </tr>\n",
       "    <tr>\n",
       "      <th>2859</th>\n",
       "      <td>[isrg, break, confirmed, bought, leap, good, t...</td>\n",
       "    </tr>\n",
       "    <tr>\n",
       "      <th>1734</th>\n",
       "      <td>[aim, ensure, vacon, good, shape, capital, exp...</td>\n",
       "    </tr>\n",
       "  </tbody>\n",
       "</table>\n",
       "</div>"
      ],
      "text/plain": [
       "                                       Processed_Tokens\n",
       "2838  [brk, b, spy, time, high, tomorrow, ?, k, shar...\n",
       "173   [looking, sharp, move, equity, aapl, hd, low, ...\n",
       "2067  [risto, jalo, ,, chief, executive, dormus, pri...\n",
       "2859  [isrg, break, confirmed, bought, leap, good, t...\n",
       "1734  [aim, ensure, vacon, good, shape, capital, exp..."
      ]
     },
     "execution_count": 15,
     "metadata": {},
     "output_type": "execute_result"
    }
   ],
   "source": [
    "def preprocess_text(text):\n",
    "    # Step 1: Clean the text\n",
    "    # Replace URLs with a space\n",
    "    text = re.sub(r\"http\\S+\", \" \", text)\n",
    "    text = re.sub(r\"http\", \" \", text)\n",
    "    # Replace '@' with 'at'\n",
    "    text = re.sub(r\"@\", \"at\", text)\n",
    "    # Replace hashtags with a space\n",
    "    text = re.sub(r\"#[A-Za-z0-9_]+\", ' ', text)\n",
    "    # Remove special characters, punctuation, and non-alphanumeric characters\n",
    "    text = re.sub(r\"[^A-Za-z(),!?@\\'\\\"_\\n]\", \" \", text)\n",
    "    # Convert to lowercase\n",
    "    text = text.lower()\n",
    "    \n",
    "    # Replace contractions with their expanded forms\n",
    "    text = re.sub(r\"won't\", \"will not\", text)\n",
    "    text = re.sub(r\"can't\", \"can not\", text)\n",
    "    text = re.sub(r\"n't\", \" not\", text)\n",
    "    text = re.sub(r\"'re\", \" are\", text)\n",
    "    text = re.sub(r\"'s\", \" is\", text)\n",
    "    text = re.sub(r\"'d\", \" would\", text)\n",
    "    text = re.sub(r\"'ll\", \" will\", text)\n",
    "    text = re.sub(r\"'t\", \" not\", text)\n",
    "    text = re.sub(r\"'ve\", \" have\", text)\n",
    "    text = re.sub(r\"'m\", \" am\", text)\n",
    "\n",
    "    # Step 2: Tokenization\n",
    "    tokens = word_tokenize(text)\n",
    "\n",
    "    # Step 3: Stopword Removal\n",
    "    stop_words = set(stopwords.words('english'))\n",
    "    additional_stopwords = ['rt', 'mkr', 'didn', 'bc', 'n', 'm', 'im', 'll', 'y', 've', 'u', 'ur', 'don', 'p', 't', 's', 'aren', 'kp', 'o', 'kat', 'de', 're', 'amp', 'will']\n",
    "    stop_words.update(additional_stopwords)\n",
    "    filtered_tokens = [token for token in tokens if token not in stop_words]\n",
    "    \n",
    "    # Step 4: Lemmatization with WordNet Lemmatizer\n",
    "    lemmatizer = WordNetLemmatizer()\n",
    "    lemmatized_tokens = [lemmatizer.lemmatize(token) for token in filtered_tokens]\n",
    "    \n",
    "    # Step 5: Stemming with Snowball Stemmer\n",
    "    stemmer = SnowballStemmer(\"english\")\n",
    "    stemmed_tokens = [stemmer.stem(token) for token in lemmatized_tokens]\n",
    "\n",
    "    return lemmatized_tokens\n",
    "\n",
    "\n",
    "# Apply the preprocess_text function to the 'Sentence' column of X_train, X_val, and X_test\n",
    "X_train_bi_lstm['Processed_Tokens'] = X_train_bi_lstm['Sentence'].apply(preprocess_text)\n",
    "X_val_bi_lstm['Processed_Tokens'] = X_val_bi_lstm['Sentence'].apply(preprocess_text)\n",
    "X_test_bi_lstm['Processed_Tokens'] = X_test_bi_lstm['Sentence'].apply(preprocess_text)\n",
    "\n",
    "# Remove the original 'Sentence' column from X_train, X_val, and X_test\n",
    "X_train_bi_lstm.drop(columns=['Sentence'], inplace=True)\n",
    "X_val_bi_lstm.drop(columns=['Sentence'], inplace=True)\n",
    "X_test_bi_lstm.drop(columns=['Sentence'], inplace=True)\n",
    "\n",
    "# Print the processed DataFrame\n",
    "X_train_bi_lstm.head()"
   ]
  },
  {
   "cell_type": "code",
   "execution_count": 16,
   "id": "d6f6bc3f",
   "metadata": {},
   "outputs": [
    {
     "name": "stdout",
     "output_type": "stream",
     "text": [
      "[2 2 1 2 2 1 1 0 1 2]\n"
     ]
    }
   ],
   "source": [
    "# Initialize the LabelEncoder\n",
    "label_encoder = LabelEncoder()\n",
    "\n",
    "# Fit and transform the labels for training data\n",
    "y_train_bi_lstm = label_encoder.fit_transform(y_train_bi_lstm)\n",
    "\n",
    "# Apply preprocessing to validation and test data\n",
    "y_val_bi_lstm = label_encoder.transform(y_val_bi_lstm)\n",
    "y_test_bi_lstm = label_encoder.transform(y_test_bi_lstm)\n",
    "\n",
    "# Print the first few encoded labels for training data\n",
    "print(y_train_bi_lstm[:10])"
   ]
  },
  {
   "cell_type": "markdown",
   "id": "80eb1fe0",
   "metadata": {},
   "source": [
    "##### Word2Vec"
   ]
  },
  {
   "cell_type": "markdown",
   "id": "b1c67f89",
   "metadata": {},
   "source": [
    "Word2Vec is a popular word embedding technique in natural language processing (NLP) that represents words as dense vectors in a continuous vector space, capturing semantic relationships between words based on their context in large text corpora, enabling applications like word similarity and language understanding in machine learning models. The provided code defines functions to train a Word2Vec model on a DataFrame containing processed tokenized text data and then applies this model to transform sentences into Word2Vec embeddings, ultimately demonstrating how to use Word2Vec embeddings for text data in a machine learning pipeline."
   ]
  },
  {
   "cell_type": "code",
   "execution_count": 17,
   "id": "45df5ba8",
   "metadata": {},
   "outputs": [
    {
     "name": "stdout",
     "output_type": "stream",
     "text": [
      "[array([ 0.04905925, -0.03647773, -0.08889966,  0.05980777,  0.02206747,\n",
      "        0.01243594,  0.13590197,  0.21177924, -0.03225496, -0.03475187,\n",
      "        0.00434861, -0.1096677 ,  0.0493065 ,  0.03453977, -0.07334282,\n",
      "       -0.0536041 ,  0.0978601 ,  0.06268997, -0.02775418, -0.19879742,\n",
      "        0.11117613, -0.0367852 ,  0.06962304,  0.02747884,  0.00362753,\n",
      "       -0.06916136, -0.01493757, -0.02527484, -0.05878823, -0.03632146,\n",
      "        0.06123356, -0.00927036,  0.12355637, -0.11819284, -0.04354499,\n",
      "       -0.07781792,  0.05903404, -0.02347236, -0.00818588, -0.04470966,\n",
      "       -0.02647572,  0.00142996, -0.02983089, -0.01247718,  0.02663247,\n",
      "       -0.04214595, -0.01736298, -0.06418639,  0.06626554,  0.05925411,\n",
      "        0.03773251, -0.11021508, -0.06643499, -0.05364742,  0.0252601 ,\n",
      "       -0.02989584,  0.02563428, -0.06720787, -0.08263643,  0.07688006,\n",
      "       -0.03650833, -0.11212558,  0.14307594,  0.05469023, -0.15707467,\n",
      "        0.11004451, -0.11050803,  0.06752154, -0.15104057,  0.06104311,\n",
      "        0.04366612,  0.05893725,  0.16923058,  0.00228345,  0.07370786,\n",
      "       -0.06748526,  0.14200072, -0.00879369, -0.12459067, -0.00839191,\n",
      "       -0.08099386, -0.03116742, -0.11416046,  0.11467622, -0.15675056,\n",
      "       -0.07367449,  0.11084848, -0.06308431,  0.02170222,  0.05330497,\n",
      "        0.1188437 ,  0.01050893,  0.14865303,  0.06664354,  0.16392946,\n",
      "       -0.01713376,  0.0457085 ,  0.02315649,  0.04506953,  0.01383365,\n",
      "       -0.06571968,  0.10522223,  0.12088002,  0.0176413 ,  0.01327674,\n",
      "       -0.14823993, -0.06712874,  0.03182311, -0.09409876, -0.13478674,\n",
      "       -0.01896598, -0.07658426,  0.0090762 ,  0.03761273,  0.13205649,\n",
      "       -0.03965584,  0.1292204 , -0.09581499, -0.0567513 , -0.0581006 ,\n",
      "        0.0064774 ,  0.03098104,  0.09772669, -0.13684323, -0.04580436,\n",
      "        0.0326198 , -0.20173989,  0.04656535,  0.01242345,  0.06889029,\n",
      "        0.04087462, -0.0290936 , -0.02610411, -0.17183352, -0.01145211,\n",
      "        0.11681156, -0.00733758,  0.02798162, -0.06949406,  0.01973   ,\n",
      "        0.08806546, -0.10119814,  0.09336552,  0.08124965,  0.02248337,\n",
      "       -0.03635197, -0.10299501, -0.08794353,  0.00493386, -0.0183716 ,\n",
      "        0.04555871, -0.02262094, -0.00163623, -0.00830947, -0.04579939,\n",
      "        0.04104506,  0.10967605,  0.15978798,  0.02566158,  0.1027682 ,\n",
      "        0.03485814,  0.01296437,  0.01527745,  0.08954424,  0.10323946,\n",
      "        0.06612431,  0.05192055,  0.03296002, -0.01476374, -0.0004511 ,\n",
      "       -0.05177416, -0.00437974,  0.0214039 , -0.00901341,  0.13569973,\n",
      "       -0.0511914 , -0.05099843,  0.06116943,  0.08543933, -0.01443044,\n",
      "       -0.13172396,  0.06622954, -0.03589312,  0.05941802,  0.00062053,\n",
      "        0.04306968,  0.02190404,  0.10060571,  0.16902097,  0.0358362 ,\n",
      "        0.05541728,  0.02035686, -0.0772929 , -0.1030756 ,  0.02884841,\n",
      "        0.01802644, -0.02271939, -0.01056869, -0.05575726, -0.03634314],\n",
      "      dtype=float32), array([ 0.04695602, -0.03446053, -0.08329139,  0.05871743,  0.01449372,\n",
      "        0.00160535,  0.1362981 ,  0.20775245, -0.04239348, -0.03553899,\n",
      "        0.01144371, -0.10176872,  0.04167679,  0.04102069, -0.06987019,\n",
      "       -0.04780159,  0.09528848,  0.06665449, -0.03436761, -0.19658862,\n",
      "        0.10920132, -0.03452482,  0.076979  ,  0.01773966,  0.01433626,\n",
      "       -0.06449047, -0.01364859, -0.01635052, -0.06030731, -0.03592274,\n",
      "        0.0563137 , -0.00764158,  0.12298437, -0.1169935 , -0.04340648,\n",
      "       -0.07106547,  0.06029942, -0.0297663 , -0.00918877, -0.05242923,\n",
      "       -0.03445945,  0.00690068, -0.03363668, -0.02125527,  0.03049853,\n",
      "       -0.0366809 , -0.02585766, -0.05028978,  0.06415846,  0.05984141,\n",
      "        0.02428343, -0.09778894, -0.07127666, -0.05399818,  0.03444663,\n",
      "       -0.03779726,  0.02343632, -0.0712077 , -0.07526057,  0.07614889,\n",
      "       -0.03434402, -0.11181425,  0.13429627,  0.04727779, -0.14965245,\n",
      "        0.10700404, -0.10293388,  0.07511771, -0.15352812,  0.06673836,\n",
      "        0.04097515,  0.07019312,  0.15885095, -0.0003622 ,  0.07250079,\n",
      "       -0.06464659,  0.13952321, -0.01064081, -0.12055073, -0.0146937 ,\n",
      "       -0.07279928, -0.03096367, -0.10331865,  0.11951496, -0.1481838 ,\n",
      "       -0.07483086,  0.10887957, -0.06787874,  0.01697969,  0.05162632,\n",
      "        0.11338348,  0.0104184 ,  0.14544015,  0.05797516,  0.1622907 ,\n",
      "       -0.00915431,  0.03719057,  0.01634725,  0.05005179,  0.01622808,\n",
      "       -0.06970943,  0.10290832,  0.11332206,  0.01373991,  0.02243272,\n",
      "       -0.15107225, -0.05529999,  0.04463298, -0.09057254, -0.14526142,\n",
      "       -0.01579281, -0.07947209, -0.00246608,  0.04097489,  0.13424149,\n",
      "       -0.02614952,  0.12914436, -0.08484292, -0.06060769, -0.06009905,\n",
      "        0.00652627,  0.02592283,  0.10281705, -0.13726297, -0.04483834,\n",
      "        0.027425  , -0.19043541,  0.04802154,  0.00883184,  0.06912141,\n",
      "        0.0453718 , -0.03440534, -0.03089109, -0.16862486, -0.00895648,\n",
      "        0.11946227,  0.00244318,  0.03399832, -0.06219469,  0.03302915,\n",
      "        0.09360489, -0.09760883,  0.07733177,  0.07659393,  0.02549741,\n",
      "       -0.02797972, -0.0891    , -0.08172891,  0.00953755, -0.00754579,\n",
      "        0.04808082, -0.03623096,  0.00022545, -0.00759108, -0.04300682,\n",
      "        0.05177172,  0.11242483,  0.1569187 ,  0.02741957,  0.09958284,\n",
      "        0.02467056,  0.01244874,  0.01806025,  0.07705059,  0.09455619,\n",
      "        0.07060508,  0.04937799,  0.02621221, -0.00853043, -0.00132725,\n",
      "       -0.04724294, -0.01554151,  0.02923815,  0.0009877 ,  0.1227018 ,\n",
      "       -0.05477202, -0.05439696,  0.0550704 ,  0.07873621, -0.02115391,\n",
      "       -0.13192484,  0.07283877, -0.03427301,  0.05183179,  0.0114378 ,\n",
      "        0.03619633,  0.02061759,  0.09154493,  0.16132466,  0.02589634,\n",
      "        0.04841831,  0.01809753, -0.0733622 , -0.10177772,  0.03340219,\n",
      "        0.02324134, -0.01469237, -0.02151177, -0.0586146 , -0.03449329],\n",
      "      dtype=float32), array([ 0.04695602, -0.03446053, -0.08329139,  0.05871743,  0.01449372,\n",
      "        0.00160535,  0.1362981 ,  0.20775245, -0.04239348, -0.03553899,\n",
      "        0.01144371, -0.10176872,  0.04167679,  0.04102069, -0.06987019,\n",
      "       -0.04780159,  0.09528848,  0.06665449, -0.03436761, -0.19658862,\n",
      "        0.10920132, -0.03452482,  0.076979  ,  0.01773966,  0.01433626,\n",
      "       -0.06449047, -0.01364859, -0.01635052, -0.06030731, -0.03592274,\n",
      "        0.0563137 , -0.00764158,  0.12298437, -0.1169935 , -0.04340648,\n",
      "       -0.07106547,  0.06029942, -0.0297663 , -0.00918877, -0.05242923,\n",
      "       -0.03445945,  0.00690068, -0.03363668, -0.02125527,  0.03049853,\n",
      "       -0.0366809 , -0.02585766, -0.05028978,  0.06415846,  0.05984141,\n",
      "        0.02428343, -0.09778894, -0.07127666, -0.05399818,  0.03444663,\n",
      "       -0.03779726,  0.02343632, -0.0712077 , -0.07526057,  0.07614889,\n",
      "       -0.03434402, -0.11181425,  0.13429627,  0.04727779, -0.14965245,\n",
      "        0.10700404, -0.10293388,  0.07511771, -0.15352812,  0.06673836,\n",
      "        0.04097515,  0.07019312,  0.15885095, -0.0003622 ,  0.07250079,\n",
      "       -0.06464659,  0.13952321, -0.01064081, -0.12055073, -0.0146937 ,\n",
      "       -0.07279928, -0.03096367, -0.10331865,  0.11951496, -0.1481838 ,\n",
      "       -0.07483086,  0.10887957, -0.06787874,  0.01697969,  0.05162632,\n",
      "        0.11338348,  0.0104184 ,  0.14544015,  0.05797516,  0.1622907 ,\n",
      "       -0.00915431,  0.03719057,  0.01634725,  0.05005179,  0.01622808,\n",
      "       -0.06970943,  0.10290832,  0.11332206,  0.01373991,  0.02243272,\n",
      "       -0.15107225, -0.05529999,  0.04463298, -0.09057254, -0.14526142,\n",
      "       -0.01579281, -0.07947209, -0.00246608,  0.04097489,  0.13424149,\n",
      "       -0.02614952,  0.12914436, -0.08484292, -0.06060769, -0.06009905,\n",
      "        0.00652627,  0.02592283,  0.10281705, -0.13726297, -0.04483834,\n",
      "        0.027425  , -0.19043541,  0.04802154,  0.00883184,  0.06912141,\n",
      "        0.0453718 , -0.03440534, -0.03089109, -0.16862486, -0.00895648,\n",
      "        0.11946227,  0.00244318,  0.03399832, -0.06219469,  0.03302915,\n",
      "        0.09360489, -0.09760883,  0.07733177,  0.07659393,  0.02549741,\n",
      "       -0.02797972, -0.0891    , -0.08172891,  0.00953755, -0.00754579,\n",
      "        0.04808082, -0.03623096,  0.00022545, -0.00759108, -0.04300682,\n",
      "        0.05177172,  0.11242483,  0.1569187 ,  0.02741957,  0.09958284,\n",
      "        0.02467056,  0.01244874,  0.01806025,  0.07705059,  0.09455619,\n",
      "        0.07060508,  0.04937799,  0.02621221, -0.00853043, -0.00132725,\n",
      "       -0.04724294, -0.01554151,  0.02923815,  0.0009877 ,  0.1227018 ,\n",
      "       -0.05477202, -0.05439696,  0.0550704 ,  0.07873621, -0.02115391,\n",
      "       -0.13192484,  0.07283877, -0.03427301,  0.05183179,  0.0114378 ,\n",
      "        0.03619633,  0.02061759,  0.09154493,  0.16132466,  0.02589634,\n",
      "        0.04841831,  0.01809753, -0.0733622 , -0.10177772,  0.03340219,\n",
      "        0.02324134, -0.01469237, -0.02151177, -0.0586146 , -0.03449329],\n",
      "      dtype=float32)]\n"
     ]
    }
   ],
   "source": [
    "def train_word2vec_model(df):\n",
    "    # Ensure that the 'Processed_Tokens' column contains lists of tokens\n",
    "    sentences = df['Processed_Tokens'].tolist()\n",
    "    \n",
    "    # Create and train the Word2Vec model\n",
    "    model = Word2Vec(sentences, \n",
    "                     vector_size=200,  # You can adjust the vector size as needed\n",
    "                     window=1,          # Context window size\n",
    "                     min_count=200,       # Minimum word frequency\n",
    "                     sg=1,              # CBOW model (sg=1 for Skip-gram)\n",
    "                     workers=multiprocessing.cpu_count())\n",
    "    \n",
    "    return model\n",
    "\n",
    "def transform_to_word2vec(df, model):\n",
    "    # Tokenize sentences\n",
    "    sentences = df['Processed_Tokens'].tolist()\n",
    "    \n",
    "    # Transform sentences to Word2Vec vectors\n",
    "    transformed_data = []\n",
    "    for sentence in sentences:\n",
    "        word_vectors = []\n",
    "        for word in sentence:\n",
    "            if word in model.wv:\n",
    "                word_vectors.append(model.wv[word])\n",
    "        transformed_data.append(word_vectors)\n",
    "    \n",
    "    return transformed_data\n",
    "\n",
    "# Combine train, validation, and test sets into one DataFrame\n",
    "combined_df = pd.concat([X_train_bi_lstm, X_val_bi_lstm, X_test_bi_lstm], ignore_index=True)\n",
    "\n",
    "# Train the Word2Vec model on the combined data\n",
    "word2vec_model = train_word2vec_model(combined_df)\n",
    "\n",
    "# Transform the data using the trained model\n",
    "X_train_word2vec = transform_to_word2vec(X_train_bi_lstm, word2vec_model)\n",
    "X_val_word2vec = transform_to_word2vec(X_val_bi_lstm, word2vec_model)\n",
    "X_test_word2vec = transform_to_word2vec(X_test_bi_lstm, word2vec_model)\n",
    "\n",
    "# Print the word2vec embedding for first row\n",
    "print(X_train_word2vec[0])"
   ]
  },
  {
   "cell_type": "markdown",
   "id": "66c6e3a1",
   "metadata": {},
   "source": [
    "##### Padding"
   ]
  },
  {
   "cell_type": "markdown",
   "id": "cc7a9c6b",
   "metadata": {},
   "source": [
    "Padding is the technique of adding extra data, typically zeros, to the beginning or end of a sequence to ensure it meets a required length or format, often used in deep learning for batch processing sequences of varying lengths. \n",
    "This code defines a function, that makes sure all sequences in your data (train, validation, and test) have the same length by adding padding, and it's used to pad the Word2Vec embeddings for your text data."
   ]
  },
  {
   "cell_type": "code",
   "execution_count": 18,
   "id": "0b3873f4",
   "metadata": {},
   "outputs": [
    {
     "name": "stdout",
     "output_type": "stream",
     "text": [
      "[[0 0 0 ... 0 0 0]\n",
      " [0 0 0 ... 0 0 0]\n",
      " [0 0 0 ... 0 0 0]\n",
      " ...\n",
      " [0 0 0 ... 0 0 0]\n",
      " [0 0 0 ... 0 0 0]\n",
      " [0 0 0 ... 0 0 0]]\n"
     ]
    }
   ],
   "source": [
    "def pad_sequences_custom(train_data, val_data, test_data):\n",
    "    # Determine the maximum sequence length for each dataset\n",
    "    max_sequence_length_train = max(len(seq) for seq in train_data)\n",
    "    max_sequence_length_val = max(len(seq) for seq in val_data)\n",
    "    max_sequence_length_test = max(len(seq) for seq in test_data)\n",
    "    \n",
    "    # Calculate the overall maximum sequence length\n",
    "    max_sequence_length = max(max_sequence_length_train, max_sequence_length_val, max_sequence_length_test)\n",
    "    \n",
    "    # Pad sequences to match the calculated maximum sequence length\n",
    "    train_padded = pad_sequences(train_data, maxlen=max_sequence_length)\n",
    "    val_padded = pad_sequences(val_data, maxlen=max_sequence_length)\n",
    "    test_padded = pad_sequences(test_data, maxlen=max_sequence_length)\n",
    "    \n",
    "    return train_padded, val_padded, test_padded, max_sequence_length\n",
    "\n",
    "# Usage\n",
    "X_train_padded, X_val_padded, X_test_padded, max_sequence_length = pad_sequences_custom(X_train_word2vec, X_val_word2vec, X_test_word2vec)\n",
    "\n",
    "# Print padded sentence for the first row on X_train\n",
    "print(X_train_padded[0])"
   ]
  },
  {
   "cell_type": "markdown",
   "id": "7071c48a",
   "metadata": {},
   "source": [
    "##### Reshaping"
   ]
  },
  {
   "cell_type": "markdown",
   "id": "4469102c",
   "metadata": {},
   "source": [
    "The reshape_for_deep_learning function is designed to adapt 2D data to the required 3D format compatible with LSTM architecture in TensorFlow, allowing it to handle sequential data effectively."
   ]
  },
  {
   "cell_type": "code",
   "execution_count": 19,
   "id": "68f105fc",
   "metadata": {},
   "outputs": [
    {
     "name": "stdout",
     "output_type": "stream",
     "text": [
      "Shape of X_train_reshaped: (2334, 34, 200)\n",
      "Shape of X_val_reshaped: (1751, 34, 200)\n",
      "Shape of X_test_reshaped: (1751, 34, 200)\n"
     ]
    }
   ],
   "source": [
    "def reshape_for_deep_learning(data):\n",
    "    # Determine the maximum number of words in a sentence\n",
    "    max_len = max(len(sentence) for sentence in data)\n",
    "    \n",
    "    # Create a 3D array to hold the data\n",
    "    num_samples = len(data)\n",
    "    embedding_dim = len(data[0][0])  # Assuming all embeddings have the same dimension\n",
    "    reshaped_data = np.zeros((num_samples, max_len, embedding_dim))\n",
    "    \n",
    "    # Fill the 3D array with data\n",
    "    for i, sentence in enumerate(data):\n",
    "        for j, word_vector in enumerate(sentence):\n",
    "            reshaped_data[i, j, :] = word_vector\n",
    "    \n",
    "    return reshaped_data\n",
    "\n",
    "# Reshape the data for deep learning models\n",
    "X_train_reshaped = reshape_for_deep_learning(X_train_padded)\n",
    "X_val_reshaped = reshape_for_deep_learning(X_val_padded)\n",
    "X_test_reshaped = reshape_for_deep_learning(X_test_padded)\n",
    "\n",
    "# Print the shape of the reshaped data to verify\n",
    "print(\"Shape of X_train_reshaped:\", X_train_reshaped.shape)\n",
    "print(\"Shape of X_val_reshaped:\", X_val_reshaped.shape)\n",
    "print(\"Shape of X_test_reshaped:\", X_test_reshaped.shape)"
   ]
  },
  {
   "cell_type": "markdown",
   "id": "d7100216",
   "metadata": {},
   "source": [
    "##### LSTM Model "
   ]
  },
  {
   "cell_type": "markdown",
   "id": "4dfd9254",
   "metadata": {},
   "source": [
    "Long Short-Term Memory (LSTM) is a type of recurrent neural network (RNN) architecture designed to capture and process long-range dependencies in sequential data, making it well-suited for sentiment prediction."
   ]
  },
  {
   "cell_type": "code",
   "execution_count": 20,
   "id": "51cf2a07",
   "metadata": {},
   "outputs": [
    {
     "name": "stdout",
     "output_type": "stream",
     "text": [
      "Epoch 1/15\n",
      "73/73 [==============================] - 7s 48ms/step - loss: 1.0868 - accuracy: 0.5223 - f1_m: 0.0000e+00 - val_loss: 1.0738 - val_accuracy: 0.5380 - val_f1_m: 0.0000e+00\n",
      "Epoch 2/15\n",
      "73/73 [==============================] - 3s 38ms/step - loss: 1.0656 - accuracy: 0.5244 - f1_m: 0.0000e+00 - val_loss: 1.0537 - val_accuracy: 0.5380 - val_f1_m: 0.0000e+00\n",
      "Epoch 3/15\n",
      "73/73 [==============================] - 3s 38ms/step - loss: 1.0486 - accuracy: 0.5244 - f1_m: 0.0000e+00 - val_loss: 1.0374 - val_accuracy: 0.5380 - val_f1_m: 0.0000e+00\n",
      "Epoch 4/15\n",
      "73/73 [==============================] - 3s 38ms/step - loss: 1.0351 - accuracy: 0.5244 - f1_m: 0.0000e+00 - val_loss: 1.0244 - val_accuracy: 0.5380 - val_f1_m: 0.0000e+00\n",
      "Epoch 5/15\n",
      "73/73 [==============================] - 3s 38ms/step - loss: 1.0244 - accuracy: 0.5244 - f1_m: 0.0000e+00 - val_loss: 1.0141 - val_accuracy: 0.5380 - val_f1_m: 0.0000e+00\n",
      "Epoch 6/15\n",
      "73/73 [==============================] - 3s 39ms/step - loss: 1.0161 - accuracy: 0.5244 - f1_m: 0.0000e+00 - val_loss: 1.0061 - val_accuracy: 0.5380 - val_f1_m: 0.0000e+00\n",
      "Epoch 7/15\n",
      "73/73 [==============================] - 3s 38ms/step - loss: 1.0098 - accuracy: 0.5244 - f1_m: 0.0000e+00 - val_loss: 0.9999 - val_accuracy: 0.5380 - val_f1_m: 0.0000e+00\n",
      "Epoch 8/15\n",
      "73/73 [==============================] - 3s 38ms/step - loss: 1.0049 - accuracy: 0.5244 - f1_m: 0.0000e+00 - val_loss: 0.9949 - val_accuracy: 0.5380 - val_f1_m: 0.0000e+00\n",
      "Epoch 9/15\n",
      "73/73 [==============================] - 3s 43ms/step - loss: 1.0013 - accuracy: 0.5244 - f1_m: 0.0000e+00 - val_loss: 0.9914 - val_accuracy: 0.5380 - val_f1_m: 0.0000e+00\n",
      "Epoch 10/15\n",
      "73/73 [==============================] - 3s 42ms/step - loss: 0.9985 - accuracy: 0.5244 - f1_m: 0.0000e+00 - val_loss: 0.9885 - val_accuracy: 0.5380 - val_f1_m: 0.0000e+00\n",
      "Epoch 11/15\n",
      "73/73 [==============================] - 3s 40ms/step - loss: 0.9966 - accuracy: 0.5244 - f1_m: 0.0000e+00 - val_loss: 0.9862 - val_accuracy: 0.5380 - val_f1_m: 0.0000e+00\n",
      "Epoch 12/15\n",
      "73/73 [==============================] - 3s 41ms/step - loss: 0.9950 - accuracy: 0.5244 - f1_m: 0.0000e+00 - val_loss: 0.9848 - val_accuracy: 0.5380 - val_f1_m: 0.0000e+00\n",
      "Epoch 13/15\n",
      "73/73 [==============================] - 3s 40ms/step - loss: 0.9938 - accuracy: 0.5244 - f1_m: 0.4434 - val_loss: 0.9835 - val_accuracy: 0.5380 - val_f1_m: 0.5372\n",
      "Epoch 14/15\n",
      "73/73 [==============================] - 3s 40ms/step - loss: 0.9930 - accuracy: 0.5244 - f1_m: 0.5243 - val_loss: 0.9826 - val_accuracy: 0.5380 - val_f1_m: 0.5372\n",
      "Epoch 15/15\n",
      "73/73 [==============================] - 3s 40ms/step - loss: 0.9923 - accuracy: 0.5244 - f1_m: 0.5244 - val_loss: 0.9819 - val_accuracy: 0.5380 - val_f1_m: 0.5372\n"
     ]
    }
   ],
   "source": [
    "# Set a specific random seed for reproducibility\n",
    "np.random.seed(42)\n",
    "tf.random.set_seed(42)\n",
    "\n",
    "# Determine the number of unique classes (labels)\n",
    "num_classes = len(np.unique(y_train_bi_lstm))\n",
    "\n",
    "# Create LSTM model\n",
    "lstm_model = Sequential()\n",
    "lstm_model.add(LSTM(128, return_sequences=True, input_shape=(X_train_reshaped.shape[1], X_train_reshaped.shape[2])))\n",
    "lstm_model.add(Dropout(0.5))  # Add dropout with a dropout rate of 0.5\n",
    "lstm_model.add(LSTM(64, return_sequences=True))\n",
    "lstm_model.add(LSTM(32, return_sequences=True))\n",
    "lstm_model.add(LSTM(16, kernel_initializer='glorot_uniform'))\n",
    "lstm_model.add(Dropout(0.5))  # Add dropout\n",
    "lstm_model.add(Dropout(0.5))  # Add dropout\n",
    "lstm_model.add(Dense(64, activation='relu'))\n",
    "lstm_model.add(Dense(num_classes, activation='softmax'))\n",
    "\n",
    "\n",
    "# Define custom metrics\n",
    "def recall_m(y_true, y_pred):\n",
    "    true_positives = K.sum(K.round(K.clip(y_true * y_pred, 0, 1)))\n",
    "    possible_positives = K.sum(K.round(K.clip(y_true, 0, 1)))\n",
    "    recall = true_positives / (possible_positives + K.epsilon())\n",
    "    return recall\n",
    "\n",
    "def precision_m(y_true, y_pred):\n",
    "    true_positives = K.sum(K.round(K.clip(y_true * y_pred, 0, 1)))\n",
    "    predicted_positives = K.sum(K.round(K.clip(y_pred, 0, 1)))\n",
    "    precision = true_positives / (predicted_positives + K.epsilon())\n",
    "    return precision\n",
    "\n",
    "def f1_m(y_true, y_pred):\n",
    "    precision = precision_m(y_true, y_pred)\n",
    "    recall = recall_m(y_true, y_pred)\n",
    "    return 2 * ((precision * recall) / (precision + recall + K.epsilon()))\n",
    "\n",
    "# Define the learning rate\n",
    "learning_rate = 0.001\n",
    "\n",
    "# Create an optimizer with the specified learning rate\n",
    "optimizer = tf.keras.optimizers.Adam(learning_rate=learning_rate)\n",
    "\n",
    "# Compile the model with categorical cross-entropy loss and custom metrics\n",
    "lstm_model.compile(loss='categorical_crossentropy', optimizer=optimizer, metrics=['accuracy', f1_m])\n",
    "\n",
    "# Define early stopping to prevent overfitting\n",
    "early_stopping = EarlyStopping(monitor='val_loss', patience=5, restore_best_weights=True)\n",
    "\n",
    "# Train the model\n",
    "history = lstm_model.fit(\n",
    "    X_train_reshaped,\n",
    "    tf.keras.utils.to_categorical(y_train_bi_lstm, num_classes=num_classes),\n",
    "    epochs=15,\n",
    "    batch_size=32,\n",
    "    validation_data=(X_val_reshaped, tf.keras.utils.to_categorical(y_val_bi_lstm)),\n",
    "    callbacks=[early_stopping]\n",
    ")"
   ]
  },
  {
   "cell_type": "code",
   "execution_count": 21,
   "id": "50cc4d47",
   "metadata": {},
   "outputs": [
    {
     "name": "stdout",
     "output_type": "stream",
     "text": [
      "Accuracy:\n",
      "Train Accuracy for LSTM Model: 0.52\n",
      "Val Accuracy for LSTM Model: 0.54\n",
      "Test Accuracy for LSTM Model: 0.55\n",
      "\n",
      "F1 Score:\n",
      "Train F1 Score for LSTM Model: 0.52\n",
      "Val F1 Score for LSTM Model: 0.54\n",
      "Test F1 Score for LSTM Model: 0.55\n"
     ]
    }
   ],
   "source": [
    "# Evaluate the LSTM model on train, validation, and test data\n",
    "train_scores_lstm = lstm_model.evaluate(X_train_reshaped, tf.keras.utils.to_categorical(y_train_bi_lstm, num_classes=num_classes), verbose=0)\n",
    "val_scores_lstm = lstm_model.evaluate(X_val_reshaped, tf.keras.utils.to_categorical(y_val_bi_lstm), verbose=0)\n",
    "test_scores_lstm = lstm_model.evaluate(X_test_reshaped, tf.keras.utils.to_categorical(y_test_bi_lstm), verbose=0)\n",
    "\n",
    "# Print the scores rounded to two decimal places using f-strings\n",
    "print(\"Accuracy:\")\n",
    "print(f\"Train Accuracy for LSTM Model: {train_scores_lstm[1]:.2f}\")\n",
    "print(f\"Val Accuracy for LSTM Model: {val_scores_lstm[1]:.2f}\")\n",
    "print(f\"Test Accuracy for LSTM Model: {test_scores_lstm[1]:.2f}\")\n",
    "print()\n",
    "print(\"F1 Score:\")\n",
    "print(f\"Train F1 Score for LSTM Model: {train_scores_lstm[2]:.2f}\")\n",
    "print(f\"Val F1 Score for LSTM Model: {val_scores_lstm[2]:.2f}\")\n",
    "print(f\"Test F1 Score for LSTM Model: {test_scores_lstm[2]:.2f}\")"
   ]
  },
  {
   "cell_type": "markdown",
   "id": "16719870",
   "metadata": {},
   "source": [
    "## 4. Results"
   ]
  },
  {
   "cell_type": "code",
   "execution_count": 57,
   "id": "b25877f6",
   "metadata": {},
   "outputs": [
    {
     "data": {
      "image/png": "[encoded data removed]",
      "text/plain": [
       "<Figure size 1000x600 with 1 Axes>"
      ]
     },
     "metadata": {},
     "output_type": "display_data"
    }
   ],
   "source": [
    "# Test scores for each algorithm\n",
    "algorithms = ['TextBlob', 'Naive Bayes', 'Random Forest', 'LSTM']\n",
    "accuracy_scores = [tb_accuracy, nb_accuracy, rf_accuracy, lstm_accuracy]\n",
    "f1_scores = [tb_f1, nb_f1, rf_f1, lstm_f1]\n",
    "\n",
    "# Define the color palette\n",
    "color_palette = ['steelblue', 'crimson']\n",
    "\n",
    "# Width of each bar\n",
    "bar_width = 0.35\n",
    "index = np.arange(len(algorithms))\n",
    "\n",
    "plt.figure(figsize=(10, 6))\n",
    "\n",
    "# Plot bars for accuracy\n",
    "plt.bar(index, accuracy_scores, bar_width, color=color_palette[0], label='Accuracy', alpha=0.8, edgecolor='black')\n",
    "\n",
    "# Plot bars for F1 score\n",
    "plt.bar(index + bar_width, f1_scores, bar_width, color=color_palette[1], label='F1 Score', alpha=0.8, edgecolor='black')\n",
    "\n",
    "# Adding labels and titles\n",
    "plt.xlabel('Algorithms', fontsize=12)\n",
    "plt.ylabel('Scores', fontsize=12)\n",
    "plt.title('Test Score Comparison', fontsize=14)\n",
    "plt.xticks(index + bar_width / 2, algorithms, fontsize=10)\n",
    "plt.legend(loc='best', fontsize=10)\n",
    "\n",
    "# Adding data labels on top of each bar\n",
    "for i, v in enumerate(accuracy_scores):\n",
    "    plt.text(i - 0.03, v + 0.01, str(round(v, 2)), fontsize=10, color='black', fontweight='bold')\n",
    "    plt.text(i + bar_width - 0.03, f1_scores[i] + 0.01, str(round(f1_scores[i], 2)), fontsize=10, color='black', fontweight='bold')\n",
    "\n",
    "# Removing the top and right spines\n",
    "plt.gca().spines['top'].set_visible(False)\n",
    "plt.gca().spines['right'].set_visible(False)\n",
    "\n",
    "plt.show()"
   ]
  },
  {
   "cell_type": "markdown",
   "id": "3e88befe",
   "metadata": {},
   "source": [
    "## 5. Conclusion"
   ]
  },
  {
   "cell_type": "markdown",
   "id": "77dec0c4",
   "metadata": {},
   "source": [
    "In this sentiment analysis project, we experimented with four models: Text Blob (baseline model), Multinomial Naive Bayes with TF-IDF, Random Forest with TF-IDF, and LSTM with Word2Vec. Although Multinomial Naive Bayes was more accurate, we favored the Random Forest, which, while a bit less accurate, generalized better. Additionally, the LSTM model, despite being deep learning, only did better than Text Blob, not surpassing Multinomial Naive Bayes or Random Forest. This suggests that deep learning models always doesn't guarantee superior results. In conclusion, Random Forest's strong generalizability makes it the top choice for sentiment prediction. After rigorous experimentation and fine-tuning, the winning model's performance remains satisfactory; thus, future work should focus on collecting a more extensive and diverse dataset for financial market sentiment analysis to bolster model robustness and explore its performance in broader data contexts."
   ]
  }
 ],
 "metadata": {
  "kernelspec": {
   "display_name": "myenv_FSA",
   "language": "python",
   "name": "myenv_fsa"
  },
  "language_info": {
   "codemirror_mode": {
    "name": "ipython",
    "version": 3
   },
   "file_extension": ".py",
   "mimetype": "text/x-python",
   "name": "python",
   "nbconvert_exporter": "python",
   "pygments_lexer": "ipython3",
   "version": "3.8.17"
  }
 },
 "nbformat": 4,
 "nbformat_minor": 5
}
